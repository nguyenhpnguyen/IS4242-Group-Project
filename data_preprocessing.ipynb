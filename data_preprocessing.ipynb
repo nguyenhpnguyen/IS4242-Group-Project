{
  "nbformat": 4,
  "nbformat_minor": 0,
  "metadata": {
    "colab": {
      "provenance": []
    },
    "kernelspec": {
      "name": "python3",
      "display_name": "Python 3"
    },
    "language_info": {
      "name": "python"
    }
  },
  "cells": [
    {
      "cell_type": "code",
      "execution_count": null,
      "metadata": {
        "id": "kugSItnwFjPR",
        "colab": {
          "base_uri": "https://localhost:8080/"
        },
        "outputId": "a536a8d5-fd5a-46c5-fbcd-9d11537efcc8"
      },
      "outputs": [
        {
          "output_type": "stream",
          "name": "stdout",
          "text": [
            "Mounted at /content/drive\n"
          ]
        }
      ],
      "source": [
        "try:\n",
        "    from google.colab import drive\n",
        "    drive.mount('/content/drive')\n",
        "except ImportError:\n",
        "    pass"
      ]
    },
    {
      "cell_type": "code",
      "source": [
        "!pip install pyheif"
      ],
      "metadata": {
        "colab": {
          "base_uri": "https://localhost:8080/"
        },
        "id": "-rNzffj80Gm7",
        "outputId": "b07cfe40-e8cb-4ff7-edb6-09eb5f262835"
      },
      "execution_count": null,
      "outputs": [
        {
          "output_type": "stream",
          "name": "stdout",
          "text": [
            "Collecting pyheif\n",
            "  Downloading pyheif-0.7.1-cp310-cp310-manylinux_2_17_x86_64.manylinux2014_x86_64.whl (9.8 MB)\n",
            "\u001b[2K     \u001b[90m━━━━━━━━━━━━━━━━━━━━━━━━━━━━━━━━━━━━━━━━\u001b[0m \u001b[32m9.8/9.8 MB\u001b[0m \u001b[31m11.2 MB/s\u001b[0m eta \u001b[36m0:00:00\u001b[0m\n",
            "\u001b[?25hRequirement already satisfied: cffi>=1.0.0 in /usr/local/lib/python3.10/dist-packages (from pyheif) (1.16.0)\n",
            "Requirement already satisfied: pycparser in /usr/local/lib/python3.10/dist-packages (from cffi>=1.0.0->pyheif) (2.22)\n",
            "Installing collected packages: pyheif\n",
            "Successfully installed pyheif-0.7.1\n"
          ]
        }
      ]
    },
    {
      "cell_type": "code",
      "source": [
        "import os\n",
        "import numpy as np\n",
        "from PIL import Image, ImageEnhance, ImageFilter\n",
        "import matplotlib.pyplot as plt\n",
        "from sklearn.model_selection import train_test_split\n",
        "import h5py\n",
        "import cv2\n",
        "from PIL import Image, ImageEnhance\n",
        "from skimage import io\n",
        "from skimage.transform import rotate\n",
        "from io import BytesIO\n",
        "import pyheif"
      ],
      "metadata": {
        "id": "P1MRa_Cn7sE9"
      },
      "execution_count": null,
      "outputs": []
    },
    {
      "cell_type": "code",
      "source": [
        "# Path to your HDF5 file\n",
        "hdf5_file_path = '/content/drive/MyDrive/IS4242/processed_data/images_h5'\n",
        "\n",
        "# Open the HDF5 file\n",
        "with h5py.File(hdf5_file_path, 'r') as hf:\n",
        "    # Access the dataset containing images\n",
        "    images = hf['images'][:]\n",
        "\n",
        "# Now 'images' variable contains your array of images\n",
        "# You can use it as needed\n",
        "print(f\"Loaded HDF5 file with images of shape: {images.shape}\")"
      ],
      "metadata": {
        "colab": {
          "base_uri": "https://localhost:8080/"
        },
        "id": "gu_I24XG7O0c",
        "outputId": "14185091-cd3f-4972-9f03-b8f84d622135"
      },
      "execution_count": null,
      "outputs": [
        {
          "output_type": "stream",
          "name": "stdout",
          "text": [
            "Loaded HDF5 file with images of shape: (857, 128, 128, 3)\n"
          ]
        }
      ]
    },
    {
      "cell_type": "code",
      "source": [
        "# Function to resize and convert image to JPG format\n",
        "def preprocess_image(image):\n",
        "    # Resize image to a standard size (e.g., 128x128)\n",
        "    resized_image = cv2.resize(image, (128, 128))\n",
        "\n",
        "    # Convert image from HEIC to JPG (example for HEIC format)\n",
        "    img_bytes = cv2.imencode('.jpg', resized_image)[1].tostring()\n",
        "    pil_image = Image.open(BytesIO(img_bytes))\n",
        "    jpg_image = np.array(pil_image)\n",
        "\n",
        "    return jpg_image\n",
        "\n",
        "# Function to apply image augmentation (brightness, blur, rotation)\n",
        "def augment_image(image):\n",
        "    # Vary brightness\n",
        "    enhancer = ImageEnhance.Brightness(Image.fromarray(image))\n",
        "    bright_image = np.array(enhancer.enhance(np.random.uniform(0.5, 1.5)))\n",
        "\n",
        "    # Apply blur\n",
        "    blurred_image = cv2.GaussianBlur(bright_image, (5, 5), 0)\n",
        "\n",
        "    # Generate random rotation (between -10 and 10 degrees)\n",
        "    angle = np.random.uniform(-10, 10)\n",
        "    rotated_image = rotate(blurred_image, angle, preserve_range=True).astype(np.uint8)\n",
        "\n",
        "    return rotated_image"
      ],
      "metadata": {
        "id": "zMF-gr05zyBq"
      },
      "execution_count": null,
      "outputs": []
    },
    {
      "cell_type": "code",
      "source": [
        "preprocessed_images = []\n",
        "for image in images:\n",
        "    # Preprocess (resize and convert to JPG)\n",
        "    processed_image = preprocess_image(image)\n",
        "\n",
        "    # Augment (vary brightness, blur, rotate)\n",
        "    augmented_image = augment_image(processed_image)\n",
        "\n",
        "    # Normalize pixel values (optional: normalize to [0, 1] range)\n",
        "    augmented_image = augmented_image / 255.0\n",
        "\n",
        "    # Append preprocessed and augmented image to list\n",
        "    preprocessed_images.append(augmented_image)\n",
        "\n",
        "# Convert preprocessed images to numpy array\n",
        "preprocessed_images = np.array(preprocessed_images)\n",
        "\n",
        "# Print shape of preprocessed images array\n",
        "print(\"Shape of preprocessed images:\", preprocessed_images.shape)"
      ],
      "metadata": {
        "colab": {
          "base_uri": "https://localhost:8080/"
        },
        "id": "94DmXtffz5or",
        "outputId": "fc23637c-5b14-4984-b353-f80eaea9fbaa"
      },
      "execution_count": null,
      "outputs": [
        {
          "output_type": "stream",
          "name": "stderr",
          "text": [
            "<ipython-input-6-b77e42aa8009>:7: DeprecationWarning: tostring() is deprecated. Use tobytes() instead.\n",
            "  img_bytes = cv2.imencode('.jpg', resized_image)[1].tostring()\n"
          ]
        },
        {
          "output_type": "stream",
          "name": "stdout",
          "text": [
            "Shape of preprocessed images: (857, 128, 128, 3)\n"
          ]
        }
      ]
    },
    {
      "cell_type": "code",
      "source": [
        "# save preprocessed images list to processed data folder\n",
        "hdf5_file_path = '/content/drive/MyDrive/IS4242/processed_data/preprocessed_images_h5'\n",
        "\n",
        "# Create HDF5 file and save the data\n",
        "with h5py.File(hdf5_file_path, 'w') as hf:\n",
        "    hf.create_dataset('preprocessed_images', data=preprocessed_images)\n",
        "\n",
        "print(f\"HDF5 file saved successfully at: {hdf5_file_path}\")"
      ],
      "metadata": {
        "colab": {
          "base_uri": "https://localhost:8080/"
        },
        "id": "qICdARwg0W3B",
        "outputId": "0e15b958-ada9-4957-855a-a09408bccc28"
      },
      "execution_count": null,
      "outputs": [
        {
          "output_type": "stream",
          "name": "stdout",
          "text": [
            "HDF5 file saved successfully at: /content/drive/MyDrive/IS4242/processed_data/preprocessed_images_h5\n"
          ]
        }
      ]
    },
    {
      "cell_type": "code",
      "source": [
        "import sys"
      ],
      "metadata": {
        "id": "p1BZFmaN3ALE"
      },
      "execution_count": null,
      "outputs": []
    },
    {
      "cell_type": "code",
      "source": [
        "sys.getsizeof(preprocessed_images)"
      ],
      "metadata": {
        "colab": {
          "base_uri": "https://localhost:8080/"
        },
        "id": "9OkEJPKj26FJ",
        "outputId": "6e86db35-39d0-4714-ec81-0d649ff5f6bb"
      },
      "execution_count": null,
      "outputs": [
        {
          "output_type": "execute_result",
          "data": {
            "text/plain": [
              "336986272"
            ]
          },
          "metadata": {},
          "execution_count": 23
        }
      ]
    }
  ]
}